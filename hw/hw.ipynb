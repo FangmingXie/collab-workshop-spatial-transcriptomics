{
 "cells": [
  {
   "cell_type": "markdown",
   "metadata": {
    "colab_type": "text",
    "id": "view-in-github"
   },
   "source": [
    "[![Open in colab](https://colab.research.google.com/assets/colab-badge.svg)](https://colab.research.google.com/github/FangmingXie/collab-workshop-st/blob/main/hw/hw.ipynb)"
   ]
  },
  {
   "cell_type": "markdown",
   "metadata": {
    "id": "PxIXg12SQpXQ"
   },
   "source": [
    "# Homework \n",
    "### Spatial transcriptomics workshop -- UCLA Collaboratory\n",
    "Dataset:\n",
    "Vizgen Data Release V1.0. May 2021\n",
    "\n",
    "### Instructions for setting up:\n",
    "- Prior to running this notebook, download the data using this link:\n",
    "https://drive.google.com/file/d/1zUHtd171abXdFfrVIsdzq2_R92jpIoQr/view?usp=sharing\n",
    "- And upload the file to the Google Colab using the side bar on the left.\n",
    "- You should be able to run through this notebook without changing *anything*.\n",
    "\n",
    "### Your tasks:\n",
    "- Please complete the `Your tasks` section at the end of this notebook.\n",
    "- Please send a screenshot of your results (your plot and your descriptions) to Fangming Xie (fmxie@ucla.edu). \n",
    "\n",
    "### Estimated time:\n",
    "- This homework should take less than 30 minutes to complete. If you have spent more than 1 hour, please email the instructor Fangming Xie (fmxie@ucla.edu) to get help."
   ]
  },
  {
   "cell_type": "markdown",
   "metadata": {
    "id": "cqpsKZ-fA--8"
   },
   "source": [
    "# Setting up"
   ]
  },
  {
   "cell_type": "code",
   "execution_count": null,
   "metadata": {
    "id": "9QASDHy3PxNs"
   },
   "outputs": [],
   "source": [
    "# Install and import packages\n",
    "import numpy as np\n",
    "import pandas as pd\n",
    "import matplotlib.pyplot as plt\n",
    "import seaborn as sns\n",
    "\n",
    "# set plot style\n",
    "%matplotlib inline\n",
    "%config InlineBackend.figure_format='retina'\n",
    "sns.set_context('talk')\n",
    "\n",
    "np.set_printoptions(precision=2)\n",
    "np.set_printoptions(suppress=True)"
   ]
  },
  {
   "cell_type": "code",
   "execution_count": null,
   "metadata": {
    "id": "rsBrDQa_ByZv"
   },
   "outputs": [],
   "source": [
    "# functions (the teacher wrote for you to use later)\n",
    "def rot2d(x, y, theta, unit='degree'):\n",
    "    \"\"\" rotate data points defined by `x` and `y` by `theta` degree\n",
    "    \"\"\"\n",
    "    a = np.vstack([x,y]).T\n",
    "    if unit == 'degree':\n",
    "        theta = theta*np.pi/180 # convert to radian\n",
    "  \n",
    "    R = np.array([[np.cos(theta), -np.sin(theta)], [np.sin(theta), np.cos(theta)]])\n",
    "    ar = a.dot(R.T)\n",
    "    return ar[:,0], ar[:,1]\n",
    "\n",
    "def st_scatter(x, y, gexp=None, vmax_p=98, title='', s=1):\n",
    "    \"\"\"customized scatter plot -- yesterday's progress\n",
    "    \"\"\"\n",
    "  \n",
    "    fig, ax = plt.subplots(figsize=(10,8))\n",
    "    if gexp is not None:\n",
    "        vmax = np.percentile(gexp, vmax_p)\n",
    "        g = ax.scatter(x, y, c=gexp, s=s, edgecolor='none', vmax=vmax)\n",
    "        fig.colorbar(g, label='log10(1+count)', shrink=0.3)\n",
    "    else:\n",
    "        g = ax.scatter(x, y, s=s, edgecolor='none')\n",
    "  \n",
    "    ax.set_title(title)\n",
    "    ax.set_aspect('equal')\n",
    "    return "
   ]
  },
  {
   "cell_type": "code",
   "execution_count": null,
   "metadata": {
    "colab": {
     "base_uri": "https://localhost:8080/",
     "height": 488
    },
    "id": "7OmnwvsWx4X2",
    "outputId": "37c5f645-18f4-468a-f74d-b95d5419a214"
   },
   "outputs": [],
   "source": [
    "f = '/content/vizgen_mouse_brain_S2R2.csv.gz'\n",
    "data = pd.read_csv(f, index_col=0)\n",
    "data"
   ]
  },
  {
   "cell_type": "code",
   "execution_count": null,
   "metadata": {
    "id": "gOgTyYdN5s5m"
   },
   "outputs": [],
   "source": [
    "x = data['x'].values\n",
    "y = data['y'].values\n",
    "theta = 40\n",
    "xr, yr = rot2d(x, y, theta)"
   ]
  },
  {
   "cell_type": "markdown",
   "metadata": {
    "id": "nwNeo1c17Eyr"
   },
   "source": [
    "# Example code below that you want to run, see, and borrow"
   ]
  },
  {
   "cell_type": "code",
   "execution_count": null,
   "metadata": {
    "colab": {
     "base_uri": "https://localhost:8080/",
     "height": 398
    },
    "id": "7S1czZKH630N",
    "outputId": "1da71666-8942-4f54-cd4e-4d0c416dd15c"
   },
   "outputs": [],
   "source": [
    "gene_name = 'Slc17a7'\n",
    "gexp = np.log10(1+data[gene_name])\n",
    "\n",
    "st_scatter(xr, yr, gexp, title=gene_name)"
   ]
  },
  {
   "cell_type": "markdown",
   "metadata": {
    "id": "7Bd5NZ544I6G"
   },
   "source": [
    "# Your tasks:\n",
    "1. Make a plot like the one above (the `Slc17a7` gene spatial distribution), but use a different gene in the data table. You may copy and modify the code from above.\n",
    "\n",
    "2. Describe the plot you made, including what the pattern looks like and what might be interesting to readers of your plot. Please be very brief and use no more than 3 sentences."
   ]
  },
  {
   "cell_type": "code",
   "execution_count": null,
   "metadata": {
    "id": "DDbTKdIPGc5M"
   },
   "outputs": [],
   "source": [
    "# task 1: repeat the plot above but using a different gene"
   ]
  },
  {
   "cell_type": "code",
   "execution_count": null,
   "metadata": {
    "id": "vnAKmlAU6MYj"
   },
   "outputs": [],
   "source": [
    "# task 2: your comments"
   ]
  },
  {
   "cell_type": "code",
   "execution_count": null,
   "metadata": {
    "id": "TpnrmW9x-1PO"
   },
   "outputs": [],
   "source": []
  }
 ],
 "metadata": {
  "colab": {
   "authorship_tag": "ABX9TyNKoqiiBXkYnVOA1sLUlXPo",
   "include_colab_link": true,
   "provenance": []
  },
  "kernelspec": {
   "display_name": "Python 3 (ipykernel)",
   "language": "python",
   "name": "python3"
  },
  "language_info": {
   "codemirror_mode": {
    "name": "ipython",
    "version": 3
   },
   "file_extension": ".py",
   "mimetype": "text/x-python",
   "name": "python",
   "nbconvert_exporter": "python",
   "pygments_lexer": "ipython3",
   "version": "3.8.15"
  }
 },
 "nbformat": 4,
 "nbformat_minor": 4
}
