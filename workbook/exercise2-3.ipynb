{
 "cells": [
  {
   "cell_type": "markdown",
   "metadata": {
    "colab_type": "text",
    "id": "view-in-github"
   },
   "source": [
    "<a href=\"https://colab.research.google.com/github/FangmingXie/collab-workshop-st/blob/main/workbook/exercise2-3.ipynb\" target=\"_parent\"><img src=\"https://colab.research.google.com/assets/colab-badge.svg\" alt=\"Open In Colab\"/></a>"
   ]
  },
  {
   "cell_type": "markdown",
   "metadata": {
    "id": "PxIXg12SQpXQ"
   },
   "source": [
    "# Exercise 2-3: Exploration, Dimensionality reduction, Normalization\n",
    "\n",
    "Dataset:\n",
    "Vizgen Data Release V1.0. May 2021"
   ]
  },
  {
   "cell_type": "code",
   "execution_count": null,
   "metadata": {
    "id": "o2kB1lglzhyN"
   },
   "outputs": [],
   "source": [
    "# Install and import packages\n",
    "!pip install umap-learn\n",
    "from umap import UMAP # this is installed by us"
   ]
  },
  {
   "cell_type": "code",
   "execution_count": null,
   "metadata": {
    "id": "9QASDHy3PxNs"
   },
   "outputs": [],
   "source": [
    "# Install and import packages\n",
    "import numpy as np\n",
    "import pandas as pd\n",
    "import matplotlib.pyplot as plt\n",
    "import seaborn as sns\n",
    "from sklearn.decomposition import PCA\n",
    "import time\n",
    "\n",
    "# set plot style\n",
    "%matplotlib inline\n",
    "%config InlineBackend.figure_format='retina'\n",
    "sns.set_context('talk')\n",
    "\n",
    "np.set_printoptions(precision=2)\n",
    "np.set_printoptions(suppress=True)"
   ]
  },
  {
   "cell_type": "code",
   "execution_count": null,
   "metadata": {
    "id": "rsBrDQa_ByZv"
   },
   "outputs": [],
   "source": [
    "# functions (the teacher wrote for you to use later)\n",
    "def rot2d(x, y, theta, unit='degree'):\n",
    "    \"\"\" rotate data points defined by `x` and `y` by `theta` degree\n",
    "    \"\"\"\n",
    "    a = np.vstack([x,y]).T\n",
    "    if unit == 'degree':\n",
    "        theta = theta*np.pi/180 # convert to radian\n",
    "\n",
    "    R = np.array([[np.cos(theta), -np.sin(theta)], [np.sin(theta), np.cos(theta)]])\n",
    "    ar = a.dot(R.T)\n",
    "    return ar[:,0], ar[:,1]\n",
    "\n",
    "def st_scatter(x, y, gexp=None, vmax_p=98, title='', s=1, cbar_label=''):\n",
    "    \"\"\"customized scatter plot -- yesterday's progress\n",
    "    \"\"\"\n",
    "  \n",
    "    fig, ax = plt.subplots(figsize=(10,8))\n",
    "    if gexp is not None:\n",
    "        vmax = np.percentile(gexp, vmax_p)\n",
    "        g = ax.scatter(x, y, c=gexp, s=s, edgecolor='none', vmax=vmax)\n",
    "        fig.colorbar(g, label=cbar_label, shrink=0.3)\n",
    "    else:\n",
    "        g = ax.scatter(x, y, s=s, edgecolor='none')\n",
    "  \n",
    "    ax.set_title(title)\n",
    "    ax.set_aspect('equal')\n",
    "  \n",
    "    return "
   ]
  },
  {
   "cell_type": "code",
   "execution_count": null,
   "metadata": {
    "id": "spyIuicGtoYX"
   },
   "outputs": [],
   "source": [
    "np.random.seed(0) # for reproducibility"
   ]
  },
  {
   "cell_type": "markdown",
   "metadata": {
    "id": "cqpsKZ-fA--8"
   },
   "source": [
    "## Load data"
   ]
  },
  {
   "cell_type": "code",
   "execution_count": null,
   "metadata": {
    "id": "7OmnwvsWx4X2"
   },
   "outputs": [],
   "source": [
    "f = \"https://raw.githubusercontent.com/FangmingXie/collab-workshop-st/main/data/vizgen_mouse_brain_S2R2.csv.gz\"\n",
    "data = pd.read_csv(f, index_col=0)\n",
    "data"
   ]
  },
  {
   "cell_type": "markdown",
   "metadata": {
    "id": "0mb-wF4TBXOS"
   },
   "source": [
    "## Warm up exercise: Check cell locations, rotation, and visualization of gene expression."
   ]
  },
  {
   "cell_type": "code",
   "execution_count": null,
   "metadata": {
    "id": "gOgTyYdN5s5m"
   },
   "outputs": [],
   "source": [
    "x = data['x'].values\n",
    "y = data['y'].values\n",
    "st_scatter(x, y)"
   ]
  },
  {
   "cell_type": "code",
   "execution_count": null,
   "metadata": {
    "id": "hknUXs4h-4dp"
   },
   "outputs": [],
   "source": [
    "theta = 40\n",
    "xr, yr = rot2d(x, y, theta)\n",
    "st_scatter(xr, yr)"
   ]
  },
  {
   "cell_type": "code",
   "execution_count": null,
   "metadata": {
    "id": "DDbTKdIPGc5M"
   },
   "outputs": [],
   "source": [
    "gene_names = [\n",
    "  'Slc17a7',\n",
    "  'Slc17a6',\n",
    "  'Gad1',\n",
    "  'Gfap',\n",
    "  'Olig1',\n",
    "  'Drd1',\n",
    "  'Drd2',\n",
    "]\n",
    "\n",
    "for gene_name in gene_names:\n",
    "  # modify code here to plot gene expression pattern for \n",
    "  # all the genes on the above list\n",
    "  pass"
   ]
  },
  {
   "cell_type": "markdown",
   "metadata": {
    "id": "GgCMQhjMMb7Y"
   },
   "source": [
    "## Exercise 2.1: Dimensionality reduction using PCA"
   ]
  },
  {
   "cell_type": "code",
   "execution_count": null,
   "metadata": {
    "id": "wiVReMJK0J1t"
   },
   "outputs": [],
   "source": [
    "ftrs = data.iloc[:,2:]\n",
    "ftrs"
   ]
  },
  {
   "cell_type": "code",
   "execution_count": null,
   "metadata": {
    "id": "ypEGUOSQMneB"
   },
   "outputs": [],
   "source": [
    "%%time\n",
    "# do PCA here on the feature matrix (483 genes and ~80k cells)\n",
    "# check this doc:\n",
    "# https://scikit-learn.org/stable/modules/generated/sklearn.decomposition.PCA.html\n",
    "\n",
    "num_pc = 20\n",
    "\n",
    "# pca_obj = PCA(...)\n",
    "# pcs = pca_obj.fit_transform(...)\n",
    "# print(pcs.shape)"
   ]
  },
  {
   "cell_type": "code",
   "execution_count": null,
   "metadata": {
    "id": "aj4tdGGJM2Bg"
   },
   "outputs": [],
   "source": [
    "# make a plot of the Number of PCs vs their explained variance ratio\n",
    "# learn from the link below: \n",
    "# https://scikit-learn.org/stable/modules/generated/sklearn.decomposition.PCA.html\n",
    "# to see how to get the explained variance ratio for each PC and plot it\n",
    "\n",
    "# plt.plot(1+np.arange(num_pc), , 'o')\n",
    "plt.xlabel('Number of PCs')\n",
    "plt.ylabel('Variance explained')"
   ]
  },
  {
   "cell_type": "code",
   "execution_count": null,
   "metadata": {
    "id": "dG7j-pMSM2Dq"
   },
   "outputs": [],
   "source": [
    "# make a plot of the Number of PCs vs their cumulative explained variance ratio\n",
    "# you may want to use `np.cumsum` to calculate the cumulative sum of a vector.\n",
    "\n",
    "# plt.plot(1+np.arange(num_pc), , 'o')\n",
    "\n",
    "plt.xlabel('Number of PCs')\n",
    "plt.ylabel('Cumulative variance explained')"
   ]
  },
  {
   "cell_type": "code",
   "execution_count": null,
   "metadata": {
    "id": "Psp1H0NlM2GB"
   },
   "outputs": [],
   "source": [
    "# plot PC1 vs PC2 colored by Slc17a7\n",
    "pc1 = pcs[:,0]\n",
    "pc2 = pcs[:,1]\n",
    "gexp = np.log10(1+ftrs['Slc17a7'])\n",
    "st_scatter(pc1, pc2, gexp, title=\"PC 1-2 colored by Slc17a7\")"
   ]
  },
  {
   "cell_type": "code",
   "execution_count": null,
   "metadata": {
    "id": "FEIm95ho0XD8"
   },
   "outputs": [],
   "source": [
    "# Now can you make a plot of PC3 vs PC4 colored by Gad1?\n",
    "# pc3 = \n",
    "# pc4 = \n",
    "# gexp = \n",
    "st_scatter(pc3, pc4, gexp, title=\"PC3 vs PC4 colored by Gad1\")"
   ]
  },
  {
   "cell_type": "markdown",
   "metadata": {
    "id": "5MMBmQaxQcKG"
   },
   "source": [
    "## Exercise 2.2: Dimensionality reduction using UMAP\n",
    "this takes long. We will use PCs (n=20) as input and reduce it down to UMAP components (n=2)"
   ]
  },
  {
   "cell_type": "code",
   "execution_count": null,
   "metadata": {
    "id": "uE16dtCpxuAM"
   },
   "outputs": [],
   "source": [
    "pcs = PCA(n_components=20).fit_transform(ftrs.values)\n",
    "pcs.shape"
   ]
  },
  {
   "cell_type": "code",
   "execution_count": null,
   "metadata": {
    "id": "swjlokvZM2Io"
   },
   "outputs": [],
   "source": [
    "%%time\n",
    "# takes ~3 min \n",
    "\n",
    "# VERY similar syntax to how you do PCA\n",
    "# ucs =  \n",
    "\n",
    "# print(ucs.shape)"
   ]
  },
  {
   "cell_type": "code",
   "execution_count": null,
   "metadata": {
    "id": "wnVkC3xMMyt0"
   },
   "outputs": [],
   "source": [
    "# complete the code below to plot UMAP coordinates\n",
    "\n",
    "# uc1 =   ## this is the first UMAP component\n",
    "# uc2 =   ## this is the second UMAP component\n",
    "# gexp = np.log10(1+ftrs['Slc17a7'])\n",
    "st_scatter(uc1, uc2, gexp, title=\"UMAP coords. colored by Slc17a7\")"
   ]
  },
  {
   "cell_type": "markdown",
   "metadata": {
    "id": "QBKhL8ssRODb"
   },
   "source": [
    "## Exercise 3: Normalization\n",
    "- Neither PCA nor UMAP are magic, in the sense that they do not separate technical noise from biological signals.\n",
    "- Therefore we often need to do normalization on raw data to remove known technical artifacts.\n",
    "- In single-cell transcriptomics, a rule of thumb is to normalize raw counts by cell size (or cell library size) and do log transformation. (why?)"
   ]
  },
  {
   "cell_type": "code",
   "execution_count": null,
   "metadata": {
    "id": "p5ai55mj1Kwl"
   },
   "outputs": [],
   "source": [
    "# normalization by size (total counts or volume)\n",
    "cov = ftrs.sum(axis=1)\n",
    "medcov = np.median(cov)\n",
    "\n",
    "# normalization by log(1+x) (squashes different orders of magnitude together)\n",
    "ftrs_normed = ftrs.divide(cov/medcov, axis=0)\n",
    "ftrs_normed = np.log10(1+ftrs_normed)\n",
    "ftrs_normed"
   ]
  },
  {
   "cell_type": "code",
   "execution_count": null,
   "metadata": {
    "id": "nF24pI2rzqwC"
   },
   "outputs": [],
   "source": [
    "# can you check if the normalization does its job? # how?\n",
    "\n",
    "\n"
   ]
  },
  {
   "cell_type": "code",
   "execution_count": null,
   "metadata": {
    "id": "oUMDV5Egv86Q"
   },
   "outputs": [],
   "source": [
    "# repeat PCA and UMAP like above using the normalized features (ftrs_normed) \n",
    "\n",
    "# this may take a while\n",
    "ti = time.time()\n",
    "\n",
    "print(\"PCA first...\", end='')\n",
    "### first do pca (20 PCs)\n",
    "pcs_normed = PCA(n_components=20).fit_transform(ftrs_normed)\n",
    "print(pcs_normed.shape)\n",
    "\n",
    "print(\"UMAP second...\", end='')\n",
    "### then send the PC results to UMAP to further reduce dimensions to 2 components\n",
    "ucs_normed = UMAP(n_components=2).fit_transform(pcs_normed)\n",
    "\n",
    "print(f\"done in {time.time()-ti:.2f}s\")\n",
    "print(ucs_normed.shape)"
   ]
  },
  {
   "cell_type": "code",
   "execution_count": null,
   "metadata": {
    "id": "DFw3ZoQm4ftH"
   },
   "outputs": [],
   "source": [
    "# plot the new UMAP coordinates\n",
    "uc1 = ucs_normed[:,0]\n",
    "uc2 = ucs_normed[:,1]\n",
    "gexp = np.log10(1+ftrs['Slc17a7'])\n",
    "st_scatter(uc1, uc2, gexp, title=\"UMAP coords. colored by Slc17a7\")"
   ]
  },
  {
   "cell_type": "markdown",
   "metadata": {
    "id": "8WVG7gscCEpa"
   },
   "source": [
    "\n",
    "### visualize individual genes in XY and UMAP \n",
    "- having both spatial (XY) and UMAP coordinates, we can plot them side-by-side to better reveal what is in our data"
   ]
  },
  {
   "cell_type": "code",
   "execution_count": null,
   "metadata": {
    "id": "TPKqLmsN5djj"
   },
   "outputs": [],
   "source": [
    "fig, axs = plt.subplots(1, 2, figsize=(8*2,8))\n",
    "ax = axs[0]\n",
    "ax.scatter(xr, yr, s=1, edgecolor='none')\n",
    "ax.set_title('XY (spatial distribution)')\n",
    "ax.set_aspect('equal')\n",
    "\n",
    "ax = axs[1]\n",
    "ax.scatter(uc1, uc2, s=1, edgecolor='none')\n",
    "ax.set_title('UMAP (molecular similarity)')\n",
    "ax.set_aspect('equal')"
   ]
  },
  {
   "cell_type": "code",
   "execution_count": null,
   "metadata": {
    "id": "QeqsvkF3gM9j"
   },
   "outputs": [],
   "source": [
    "def st_scatter_xy_umap(x, y, ux, uy, ftrs_normed, gene=None):\n",
    "  \"\"\"plot XY and UMAP side by side colored by gene\n",
    "  \"\"\"\n",
    "  if gene is not None:\n",
    "      gval = ftrs_normed[gene]\n",
    "\n",
    "  fig, axs = plt.subplots(1, 2, figsize=(8*2,8))\n",
    "  fig.suptitle(gene)\n",
    "  \n",
    "  ax = axs[0]\n",
    "  g = ax.scatter(xr, yr, c=gval, s=1, edgecolor='none')\n",
    "  ax.set_title('XY (spatial distribution)')\n",
    "  ax.set_aspect('equal')\n",
    "  \n",
    "  ax = axs[1]\n",
    "  ax.scatter(ux, uy, c=gval, s=1, edgecolor='none')\n",
    "  ax.set_title('UMAP (molecular similarity)')\n",
    "  ax.set_aspect('equal')\n",
    "  fig.colorbar(g, ax=ax, shrink=0.3, label='normed counts\\n(by size and log10(x+1))')\n",
    "\n",
    "  return "
   ]
  },
  {
   "cell_type": "code",
   "execution_count": null,
   "metadata": {
    "id": "kiEPFDqahL-E"
   },
   "outputs": [],
   "source": [
    "st_scatter_xy_umap(xr, yr, uc1, uc2, ftrs_normed, 'Slc17a7')"
   ]
  },
  {
   "cell_type": "code",
   "execution_count": null,
   "metadata": {
    "id": "oFcyk-7s7fcu"
   },
   "outputs": [],
   "source": [
    "for gene in [\n",
    "    'Slc17a6', 'Slc17a7', # exc; different sub populations\n",
    "    'Gad1',  # inh\n",
    "    'Gfap', 'Olig1', # spatially co-localized; molecularly distinct\n",
    "    'Drd1', 'Drd2',  # spatially co-localized; molecularly distinct\n",
    "    ]:\n",
    "    # modify code below to repeat the plot above for all genes listed here\n",
    "    pass"
   ]
  }
 ],
 "metadata": {
  "colab": {
   "collapsed_sections": [
    "5MMBmQaxQcKG",
    "QBKhL8ssRODb",
    "8WVG7gscCEpa",
    "5fuqgmV4tw5U",
    "gNLGWkxetO3a",
    "REx7BdChMO5x"
   ],
   "include_colab_link": true,
   "provenance": [],
   "toc_visible": true
  },
  "kernelspec": {
   "display_name": "Python 3 (ipykernel)",
   "language": "python",
   "name": "python3"
  },
  "language_info": {
   "codemirror_mode": {
    "name": "ipython",
    "version": 3
   },
   "file_extension": ".py",
   "mimetype": "text/x-python",
   "name": "python",
   "nbconvert_exporter": "python",
   "pygments_lexer": "ipython3",
   "version": "3.9.16"
  }
 },
 "nbformat": 4,
 "nbformat_minor": 4
}
