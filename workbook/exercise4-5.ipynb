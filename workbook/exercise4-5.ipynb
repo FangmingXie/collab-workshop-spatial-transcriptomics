{
 "cells": [
  {
   "cell_type": "markdown",
   "metadata": {
    "colab_type": "text",
    "id": "view-in-github"
   },
   "source": [
    "<a href=\"https://colab.research.google.com/github/FangmingXie/collab-workshop-st/blob/main/workbook/exercise4-5.ipynb\" target=\"_parent\"><img src=\"https://colab.research.google.com/assets/colab-badge.svg\" alt=\"Open In Colab\"/></a>"
   ]
  },
  {
   "cell_type": "markdown",
   "metadata": {
    "id": "PxIXg12SQpXQ"
   },
   "source": [
    "# Exercise 4-5: Cell type clustering and spatial distribution of clusters \n",
    "\n",
    "Dataset:\n",
    "Vizgen Data Release V1.0. May 2021"
   ]
  },
  {
   "cell_type": "code",
   "execution_count": null,
   "metadata": {
    "colab": {
     "base_uri": "https://localhost:8080/"
    },
    "id": "o2kB1lglzhyN",
    "outputId": "ec7e32fa-bef3-4b67-b271-fb06e48c77ec"
   },
   "outputs": [],
   "source": [
    "# Install and import packages\n",
    "!pip install umap-learn\n",
    "from umap import UMAP # this is installed by us"
   ]
  },
  {
   "cell_type": "code",
   "execution_count": null,
   "metadata": {
    "id": "9QASDHy3PxNs"
   },
   "outputs": [],
   "source": [
    "# Install and import packages\n",
    "import numpy as np\n",
    "import pandas as pd\n",
    "import matplotlib.pyplot as plt\n",
    "import seaborn as sns\n",
    "from sklearn.decomposition import PCA\n",
    "import time\n",
    "\n",
    "# set plot style\n",
    "%matplotlib inline\n",
    "%config InlineBackend.figure_format='retina'\n",
    "sns.set_context('talk')\n",
    "\n",
    "np.set_printoptions(precision=2)\n",
    "np.set_printoptions(suppress=True)"
   ]
  },
  {
   "cell_type": "code",
   "execution_count": null,
   "metadata": {
    "id": "rsBrDQa_ByZv"
   },
   "outputs": [],
   "source": [
    "# functions (the teacher wrote for you to use later)\n",
    "def rot2d(x, y, theta, unit='degree'):\n",
    "    \"\"\" rotate data points defined by `x` and `y` by `theta` degree\n",
    "    \"\"\"\n",
    "    a = np.vstack([x,y]).T\n",
    "    if unit == 'degree':\n",
    "        theta = theta*np.pi/180 # convert to radian\n",
    "\n",
    "    R = np.array([[np.cos(theta), -np.sin(theta)], [np.sin(theta), np.cos(theta)]])\n",
    "    ar = a.dot(R.T)\n",
    "    return ar[:,0], ar[:,1]\n",
    "\n",
    "def st_scatter(x, y, gexp=None, vmax_p=98, title='', s=1):\n",
    "    \"\"\"customized scatter plot -- yesterday's progress\n",
    "    \"\"\"\n",
    "\n",
    "    fig, ax = plt.subplots(figsize=(10,8))\n",
    "    if gexp is not None:\n",
    "        vmax = np.percentile(gexp, vmax_p)\n",
    "        g = ax.scatter(x, y, c=gexp, s=s, edgecolor='none', vmax=vmax)\n",
    "        fig.colorbar(g, label='log10(1+count)', shrink=0.3)\n",
    "    else:\n",
    "        g = ax.scatter(x, y, s=s, edgecolor='none')\n",
    "  \n",
    "    ax.set_title(title)\n",
    "    ax.set_aspect('equal')\n",
    "  \n",
    "    return "
   ]
  },
  {
   "cell_type": "code",
   "execution_count": null,
   "metadata": {
    "id": "spyIuicGtoYX"
   },
   "outputs": [],
   "source": [
    "np.random.seed(0) # for reproducibility"
   ]
  },
  {
   "cell_type": "markdown",
   "metadata": {
    "id": "cqpsKZ-fA--8"
   },
   "source": [
    "## Load data"
   ]
  },
  {
   "cell_type": "code",
   "execution_count": null,
   "metadata": {
    "colab": {
     "base_uri": "https://localhost:8080/",
     "height": 487
    },
    "id": "7OmnwvsWx4X2",
    "outputId": "1573da78-87a0-4334-de67-99924a463bdd"
   },
   "outputs": [],
   "source": [
    "# this might take ~5 seconds\n",
    "f = \"https://raw.githubusercontent.com/FangmingXie/collab-workshop-st/main/data/vizgen_mouse_brain_S2R2.csv.gz\"\n",
    "data = pd.read_csv(f, index_col=0)\n",
    "data"
   ]
  },
  {
   "cell_type": "markdown",
   "metadata": {
    "id": "0mb-wF4TBXOS"
   },
   "source": [
    "## Check cell locations, rotation, and visualization of gene expression."
   ]
  },
  {
   "cell_type": "code",
   "execution_count": null,
   "metadata": {
    "colab": {
     "base_uri": "https://localhost:8080/",
     "height": 697
    },
    "id": "gOgTyYdN5s5m",
    "outputId": "52de9c5b-acd5-4c1e-cfb2-b13c082b7de0"
   },
   "outputs": [],
   "source": [
    "x = data['x'].values\n",
    "y = data['y'].values\n",
    "st_scatter(x, y)"
   ]
  },
  {
   "cell_type": "code",
   "execution_count": null,
   "metadata": {
    "colab": {
     "base_uri": "https://localhost:8080/",
     "height": 629
    },
    "id": "hknUXs4h-4dp",
    "outputId": "50858355-3ef9-45c8-dff5-e425f4a66044"
   },
   "outputs": [],
   "source": [
    "theta = 40\n",
    "xr, yr = rot2d(x, y, theta)\n",
    "st_scatter(xr, yr)"
   ]
  },
  {
   "cell_type": "code",
   "execution_count": null,
   "metadata": {
    "colab": {
     "base_uri": "https://localhost:8080/",
     "height": 546
    },
    "id": "cqPHehtkF79Y",
    "outputId": "921a4f9b-b24e-4f83-ad08-cd610d67e5f1"
   },
   "outputs": [],
   "source": [
    "gene_name = 'Slc17a7'\n",
    "gexp = np.log10(1+data[gene_name])\n",
    "\n",
    "st_scatter(xr, yr, gexp, title=gene_name)"
   ]
  },
  {
   "cell_type": "code",
   "execution_count": null,
   "metadata": {
    "colab": {
     "base_uri": "https://localhost:8080/",
     "height": 423
    },
    "id": "wiVReMJK0J1t",
    "outputId": "17f19b12-9a3d-4605-a2a7-de2e4cc9b259"
   },
   "outputs": [],
   "source": [
    "ftrs = data.iloc[:,2:]\n",
    "ftrs"
   ]
  },
  {
   "cell_type": "code",
   "execution_count": null,
   "metadata": {
    "colab": {
     "base_uri": "https://localhost:8080/",
     "height": 487
    },
    "id": "p5ai55mj1Kwl",
    "outputId": "84838191-3001-42b9-a930-08f61ca4d39c"
   },
   "outputs": [],
   "source": [
    "# normalization by size (total counts or volume)\n",
    "cov = ftrs.sum(axis=1)\n",
    "medcov = np.median(cov)\n",
    "\n",
    "# normalization by log(1+x) (squashes different orders of magnitude together)\n",
    "ftrs_normed = ftrs.divide(cov/medcov, axis=0)\n",
    "ftrs_normed = np.log10(1+ftrs_normed)\n",
    "ftrs_normed"
   ]
  },
  {
   "cell_type": "code",
   "execution_count": null,
   "metadata": {
    "colab": {
     "base_uri": "https://localhost:8080/"
    },
    "id": "JI_9NxJA4RSS",
    "outputId": "0c438db1-201a-4ab5-8948-ebbccd07460a"
   },
   "outputs": [],
   "source": [
    "%%time\n",
    "# UMAP takes ~2.5 min\n",
    "ti = time.time()\n",
    "print(\"PCA...\", end='')\n",
    "pcs_normed = PCA(n_components=20).fit_transform(ftrs_normed)\n",
    "print(f\"done in {time.time()-ti:.2f}s\")\n",
    "print(pcs_normed.shape)\n",
    "\n",
    "print(\"UMAP...\", end='')\n",
    "ucs_normed = UMAP(n_components=2).fit_transform(pcs_normed)\n",
    "print(f\"done in {time.time()-ti:.2f}s\")\n",
    "print(ucs_normed.shape)"
   ]
  },
  {
   "cell_type": "code",
   "execution_count": null,
   "metadata": {
    "colab": {
     "base_uri": "https://localhost:8080/",
     "height": 720
    },
    "id": "DFw3ZoQm4ftH",
    "outputId": "9fc28f42-bd9d-4476-8b46-d6f06418fb03"
   },
   "outputs": [],
   "source": [
    "uc1 = ucs_normed[:,0]\n",
    "uc2 = ucs_normed[:,1]\n",
    "gexp = np.log10(1+ftrs['Slc17a7'])\n",
    "st_scatter(uc1, uc2, gexp, title=\"UMAP coords. colored by Slc17a7\")"
   ]
  },
  {
   "cell_type": "markdown",
   "metadata": {
    "id": "8WVG7gscCEpa"
   },
   "source": [
    "\n",
    "## visualize individual genes in XY and UMAP "
   ]
  },
  {
   "cell_type": "code",
   "execution_count": null,
   "metadata": {
    "id": "QeqsvkF3gM9j"
   },
   "outputs": [],
   "source": [
    "def st_scatter_xy_umap(x, y, ux, uy, ftrs_normed, gene=None):\n",
    "  \"\"\"plot XY and UMAP side by side colored by gene\n",
    "  \"\"\"\n",
    "  if gene is not None:\n",
    "      gval = ftrs_normed[gene]\n",
    "\n",
    "  fig, axs = plt.subplots(1, 2, figsize=(8*2,8))\n",
    "  fig.suptitle(gene)\n",
    "  \n",
    "  ax = axs[0]\n",
    "  g = ax.scatter(xr, yr, c=gval, s=1, edgecolor='none')\n",
    "  ax.set_title('XY (spatial distribution)')\n",
    "  ax.set_aspect('equal')\n",
    "  \n",
    "  ax = axs[1]\n",
    "  ax.scatter(ux, uy, c=gval, s=1, edgecolor='none')\n",
    "  ax.set_title('UMAP (molecular similarity)')\n",
    "  ax.set_aspect('equal')\n",
    "  fig.colorbar(g, ax=ax, shrink=0.3, label='normed counts\\n(by size and log10(x+1))')\n",
    "\n",
    "  return "
   ]
  },
  {
   "cell_type": "code",
   "execution_count": null,
   "metadata": {
    "colab": {
     "base_uri": "https://localhost:8080/",
     "height": 727
    },
    "id": "kiEPFDqahL-E",
    "outputId": "b68aaa7b-cdec-4a63-cf4b-129ff6f87a6e"
   },
   "outputs": [],
   "source": [
    "st_scatter_xy_umap(xr, yr, uc1, uc2, ftrs_normed, 'Slc17a7')"
   ]
  },
  {
   "cell_type": "markdown",
   "metadata": {
    "id": "XKSICWlptM3B"
   },
   "source": [
    "## Exercise 4: Clustering - KMeans\n",
    "- k specifies how many clusters we aim to identify"
   ]
  },
  {
   "cell_type": "code",
   "execution_count": null,
   "metadata": {
    "id": "vD6UNG6tjfNl"
   },
   "outputs": [],
   "source": [
    "# visualize clusters\n",
    "def plot_cluster(clsts, x, y, ux, uy):\n",
    "  \"\"\"\n",
    "  \"\"\"\n",
    "  from matplotlib import colors\n",
    "\n",
    "  unq_clsts, inv = np.unique(clsts, return_inverse=True)\n",
    "  n_unq = len(unq_clsts)\n",
    "  # colors = np.array(sns.color_palette('husl', n_unq))\n",
    "  # c_vec = colors[inv]\n",
    "\n",
    "  cmap = plt.cm.jet\n",
    "  norm = colors.BoundaryNorm(np.arange(-0.5, n_unq, 1), cmap.N)\n",
    "\n",
    "  fig, axs = plt.subplots(1, 2, figsize=(8*2,8))\n",
    "  \n",
    "  ax = axs[0]\n",
    "  g = ax.scatter(x, y, norm=norm, cmap=cmap, c=clsts, s=1, edgecolor='none')\n",
    "  ax.set_title('XY (spatial distribution)')\n",
    "  ax.set_aspect('equal')\n",
    "  \n",
    "  ax = axs[1]\n",
    "  ax.scatter(ux, uy, norm=norm, cmap=cmap, c=clsts, s=1, edgecolor='none')\n",
    "  ax.set_title('UMAP (molecular similarity)')\n",
    "  ax.set_aspect('equal')\n",
    "\n",
    "  fig.colorbar(g, ax=ax, label='clusters', ticks=np.arange(n_unq))"
   ]
  },
  {
   "cell_type": "code",
   "execution_count": null,
   "metadata": {
    "colab": {
     "base_uri": "https://localhost:8080/"
    },
    "id": "26cerkwx8P2K",
    "outputId": "7d779a72-383e-456a-c765-c70b11e3f38a"
   },
   "outputs": [],
   "source": [
    "%%time\n",
    "# clustering (k means clustering)\n",
    "# takes ~1.5min\n",
    "\n",
    "from sklearn.cluster import KMeans\n",
    "\n",
    "# clustering -- in the end every cell will be assigned to a cluster\n",
    "k = 3 # generate 3 clusters \n",
    "kmeans = KMeans(n_clusters=k)\n",
    "clsts = kmeans.fit_predict(ftrs_normed.values)\n",
    "clsts.shape, clsts"
   ]
  },
  {
   "cell_type": "code",
   "execution_count": null,
   "metadata": {
    "colab": {
     "base_uri": "https://localhost:8080/",
     "height": 653
    },
    "id": "fYKEyXhGjfQD",
    "outputId": "46533753-2119-455a-c206-679c76c1eadc"
   },
   "outputs": [],
   "source": [
    "# plot clustering results (assuming `clsts` is a list of cluster labels for each cell)\n",
    "plot_cluster(clsts, xr, yr, uc1, uc2)"
   ]
  },
  {
   "cell_type": "code",
   "execution_count": null,
   "metadata": {
    "id": "dM6WKALRIyxs"
   },
   "outputs": [],
   "source": [
    "# Now can you repeat K-Means clustering to get\n",
    "# k = 3, 5, 10, 20 clusters respectively, and plot their distributions\n",
    "# in XY and UMAP coordinates?\n",
    "\n",
    "\n"
   ]
  },
  {
   "cell_type": "markdown",
   "metadata": {
    "id": "5fuqgmV4tw5U"
   },
   "source": [
    "## Bonus point 1: Cluster centroid (pseduo-bulk) profiles\n",
    "- computationally merging cells from the same cell type (like a in-silico bulk RNA-seq) \n",
    "\n",
    "Steps:\n",
    "1. create a new dataframe called `tmp` which is a copy of `ftrs_normed`\n",
    "2. add a new column in `tmp` called `clst` and assign cluster labels of the cells to this column\n",
    "3. use the powerful tool `tmp.groupby('clst').mean()` to calculate the mean per cluster for every gene.\n",
    "4. does the result make sense to you?\n",
    "\n",
    "\n",
    "Visualization:\n",
    "5. z-score the results (cell-type by gene expression profiles) per gene across cell types. If `X` is your centroid matrix (cell type by gene), its zscore should be `(X-X.mean())/X.std()`. \n",
    "\n",
    "6. visualize the above matrix using the heatmap command from the Seaborn package (`sns.heatmap()`)"
   ]
  },
  {
   "cell_type": "code",
   "execution_count": null,
   "metadata": {
    "id": "JbDUUafosmZz"
   },
   "outputs": [],
   "source": [
    "# ctrds = ...\n",
    "# ctrds_zscore = ..."
   ]
  },
  {
   "cell_type": "code",
   "execution_count": null,
   "metadata": {
    "id": "Qn5r6Q4ts1zl"
   },
   "outputs": [],
   "source": [
    "# visualize the results\n",
    "sns.clustermap(ctrds_zscore.T, figsize=(6,10), cmap='coolwarm', center=0)"
   ]
  },
  {
   "cell_type": "markdown",
   "metadata": {
    "id": "gNLGWkxetO3a"
   },
   "source": [
    "## Exercise 5 (Bonus point 2): Enrichment analysis of spatial proximity\n",
    "- in the style of [Fang et al. 2022 Science](https://www.science.org/doi/10.1126/science.abm1741) (Figure 4)\n",
    "\n",
    "- enrichment analysis (spatial neighbors of clusters) -- \n",
    " which cell type pairs are enriched in spatial proximity\n",
    "\n",
    "Steps:\n",
    "- for each cell, get their k nearest spatial neighbors. \n",
    "  you may use `from sklearn.neighbors import NearestNeighbors`\n",
    "\n",
    "- count the results for each cell type pair -- how many connections there are between each pair.\n",
    "  you may use the function below `get_clst2clst_counts`\n",
    "\n",
    "- compare it with what's expected by random homogenous cell types....; are they enriched?\n",
    "  you may want to repeat the steps above after randomly shuffling cell type labels across cells using `np.random.choice(..., replace=False)`"
   ]
  },
  {
   "cell_type": "code",
   "execution_count": null,
   "metadata": {
    "id": "kXEprx4dJn3_"
   },
   "outputs": [],
   "source": [
    "def get_clst2clst_counts(clsts, knn):\n",
    "  \"\"\"Given cluster labels (for each cell) and spatial neighbors (indices; including self), \n",
    "  Calculate how many connections (neighbor pairs) each cluster pairs have.\n",
    "  Return this information as a cluster-by-cluster count matrix\n",
    "  \"\"\"\n",
    "  from scipy import sparse\n",
    "  knn_clsts = clsts[knn] # cluster label for kNN\n",
    "  n_unq_clsts = len(np.unique(clsts)) # number of clusters\n",
    "  \n",
    "  shape = (n_unq_clsts, n_unq_clsts)\n",
    "  _self = knn_clsts[:,0]\n",
    "  _others = knn_clsts[:,1:]\n",
    "  rows = np.repeat(_self, (k-1)) # repeat \n",
    "  cols = np.hstack(_others)\n",
    "  assert len(rows) == len(cols) \n",
    "  data = np.repeat(1, len(rows))\n",
    "  clst2clst_counts = sparse.coo_matrix((data, (rows, cols)), shape=shape).todense() \n",
    "  clst2clst_counts = (clst2clst_counts + clst2clst_counts.T) # each connection counted twice.\n",
    "  return clst2clst_counts"
   ]
  },
  {
   "cell_type": "code",
   "execution_count": null,
   "metadata": {
    "id": "zptwqgJmsVkK"
   },
   "outputs": [],
   "source": [
    "# for each cell, get their k nearest spatial neighbors\n",
    "from sklearn.neighbors import NearestNeighbors\n",
    "xy = np.vstack([xr, yr]).T\n",
    "\n",
    "k = 1+6 # 1(self) + 6 nearest neighbors\n",
    "# knn = \n",
    "print(knn.shape)\n",
    "print(knn)"
   ]
  },
  {
   "cell_type": "code",
   "execution_count": null,
   "metadata": {
    "colab": {
     "base_uri": "https://localhost:8080/"
    },
    "id": "o2qH2DOTtRKp",
    "outputId": "1308b369-213c-407e-a398-b5a697a51255"
   },
   "outputs": [],
   "source": [
    "# count number of connections for every cell type pair\n",
    "clst2clst_counts = get_clst2clst_counts(clsts, knn)\n",
    "clst2clst_counts"
   ]
  },
  {
   "cell_type": "code",
   "execution_count": null,
   "metadata": {
    "id": "bmqiaJ-3KJqz"
   },
   "outputs": [],
   "source": [
    "\n",
    "# redo the above counting after shuffing cell type labels \n",
    "# clsts_shuff = \n",
    "clst2clst_counts_shuff = get_clst2clst_counts(clsts_shuff, knn)"
   ]
  },
  {
   "cell_type": "code",
   "execution_count": null,
   "metadata": {
    "colab": {
     "base_uri": "https://localhost:8080/",
     "height": 1000
    },
    "id": "xGV--cYylPyO",
    "outputId": "3bc9720a-f6cd-4624-c3d6-287fec695825"
   },
   "outputs": [],
   "source": [
    "# visualize the difference between original vs shuffled cell type labels\n",
    "plot_cluster(clsts, xr, yr, uc1, uc2)\n",
    "plot_cluster(clsts_shuff, xr, yr, uc1, uc2)"
   ]
  },
  {
   "cell_type": "code",
   "execution_count": null,
   "metadata": {
    "colab": {
     "base_uri": "https://localhost:8080/",
     "height": 490
    },
    "id": "yDVmg6l7sVq2",
    "outputId": "19db503c-7a74-4254-bad4-0d27079dd583"
   },
   "outputs": [],
   "source": [
    "sns.heatmap(clst2clst_counts)\n",
    "plt.gca().set_aspect('equal')\n",
    "plt.title('observed')"
   ]
  },
  {
   "cell_type": "code",
   "execution_count": null,
   "metadata": {
    "colab": {
     "base_uri": "https://localhost:8080/",
     "height": 490
    },
    "id": "ZBdemT_-KlAA",
    "outputId": "be298e47-c070-4baf-91b7-45ac6129011e"
   },
   "outputs": [],
   "source": [
    "sns.heatmap(clst2clst_counts_shuff)\n",
    "plt.gca().set_aspect('equal')\n",
    "plt.title('expected')"
   ]
  },
  {
   "cell_type": "code",
   "execution_count": null,
   "metadata": {
    "colab": {
     "base_uri": "https://localhost:8080/",
     "height": 490
    },
    "id": "puNN2KX6KmQA",
    "outputId": "9b889976-b61e-46ff-965a-01261e5c5e18"
   },
   "outputs": [],
   "source": [
    "sns.heatmap(np.log2((1+clst2clst_counts)/(1+clst2clst_counts_shuff)), # 1 is pseudo count to avoid 0 in log. \n",
    "            cmap='coolwarm',\n",
    "            vmax=2,vmin=-2,\n",
    "            )\n",
    "plt.gca().set_aspect('equal')\n",
    "plt.title('enriched: log2(observed/expected)')"
   ]
  },
  {
   "cell_type": "markdown",
   "metadata": {
    "id": "REx7BdChMO5x"
   },
   "source": [
    "## Bonus follow-up questions\n",
    "- How do we make sure the expected pattern is stable (not a fluke of 1 particular random shuffle)? \n",
    "- How do we evaluate the statistical significance of the enrichment?\n"
   ]
  },
  {
   "cell_type": "code",
   "execution_count": null,
   "metadata": {
    "id": "F9AaqWGxrfRk"
   },
   "outputs": [],
   "source": []
  }
 ],
 "metadata": {
  "colab": {
   "include_colab_link": true,
   "provenance": []
  },
  "kernelspec": {
   "display_name": "Python 3 (ipykernel)",
   "language": "python",
   "name": "python3"
  },
  "language_info": {
   "codemirror_mode": {
    "name": "ipython",
    "version": 3
   },
   "file_extension": ".py",
   "mimetype": "text/x-python",
   "name": "python",
   "nbconvert_exporter": "python",
   "pygments_lexer": "ipython3",
   "version": "3.9.16"
  }
 },
 "nbformat": 4,
 "nbformat_minor": 4
}
